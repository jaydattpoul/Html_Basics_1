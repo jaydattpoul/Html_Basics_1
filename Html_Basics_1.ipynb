{
  "nbformat": 4,
  "nbformat_minor": 0,
  "metadata": {
    "colab": {
      "provenance": []
    },
    "kernelspec": {
      "name": "python3",
      "display_name": "Python 3"
    },
    "language_info": {
      "name": "python"
    }
  },
  "cells": [
    {
      "cell_type": "markdown",
      "source": [
        "#Html Basics\n"
      ],
      "metadata": {
        "id": "V6Sr0TFB30a0"
      }
    },
    {
      "cell_type": "code",
      "source": [
        "#1.Explain the basic structure of an HTML page. Why is it important to follow this structure?\n",
        "<!DOCTYPE html>\n",
        "<html lang=\"en\">\n",
        "<head>\n",
        "  <meta charset=\"UTF-8\" />\n",
        "  <meta name=\"viewport\" content=\"width=device-width, initial-scale=1.0\" />\n",
        "  <title>My First Web Page</title>\n",
        "</head>\n",
        "<body>\n",
        "  <h1>Hello World</h1>\n",
        "  <p> This is m website</p>\n",
        "</body>\n",
        "</html>\n",
        "...\n",
        " <!DOCTYPE html>\n",
        " - Declares the document type and version of HTML (HTML5 in this case).\n",
        " <html lang=\"en\">\n",
        " - lang=\"en\" specifies the language as English.\n",
        " <head>\n",
        " - <meta charset=\"UTF-8\">: Character encoding.\n",
        " - <meta name=\"viewport\">: Responsive design.\n",
        " - <title>: Title shown on the browser tab.\n",
        " - Links to stylesheets or scripts.\n",
        " <body>\n",
        " - Contains all the visible content of the webpage, like text, images, buttons, etc.\n",
        "\n",
        " * Browser Compatibility:\n",
        " Ensures that all browsers understand and render the content consistently.\n",
        " * SEO & Accessibility:\n",
        "  Helps search engines and assistive technologies properly interpret the page.\n",
        " * Maintainability:\n",
        "  Makes the code easier to read, understand, and update for you and other developers.\n",
        " * Functionality:\n",
        "  Some features or styles may not work correctly if the structure is incorrect or incomplete.\n",
        "...\n",
        "\n"
      ],
      "metadata": {
        "id": "_Jcftu_Y5qdf"
      },
      "execution_count": null,
      "outputs": []
    },
    {
      "cell_type": "code",
      "source": [
        "... 2) You’re building a small personal profile page. Which HTML tags will you\n",
        "use to highlight your name as a heading, describe yourself in a paragraph, and\n",
        "emphasize a key skill?...\n",
        "\n",
        "->\n",
        "<!DOCTYPE html>\n",
        "<html lang=\"en\">\n",
        "<head>\n",
        "  <meta charset=\"UTF-8\">\n",
        "  <title>My Profile</title>\n",
        "</head>\n",
        "<body>\n",
        "\n",
        "\n",
        "  <h1>Jaydatt Poul</h1>\n",
        "\n",
        "\n",
        "  <p>I am a passionate web developer with a love for clean code and creative design and also backend.</p>\n",
        "\n",
        "\n",
        "  <p>One of my strongest skills is <em>JavaScript</em>.</p>\n",
        "\n",
        "</body>\n",
        "</html>\n"
      ],
      "metadata": {
        "id": "dUhaJi8fEJUH"
      },
      "execution_count": null,
      "outputs": []
    },
    {
      "cell_type": "markdown",
      "source": [
        "3) Look at the code below. Can you find and fix the mistake?\n",
        "<!-- This is an HTML comment\n",
        "<h1>Welcome to my website</h1>\n"
      ],
      "metadata": {
        "id": "KVV7WZgRYyHb"
      }
    },
    {
      "cell_type": "code",
      "source": [
        "<!-- This is an HTML comment\n",
        "<h1>Welcome to my website</h1>\n",
        "-->\n"
      ],
      "metadata": {
        "id": "fgPFmWW1ZNbj"
      },
      "execution_count": null,
      "outputs": []
    },
    {
      "cell_type": "code",
      "source": [
        "...\n",
        " 4) You’re creating a form that asks the user to enter their name, select their\n",
        "country from a list, and click a button to submit. Write the HTML code for this.\n",
        "...\n",
        "->\n",
        "<!DOCTYPE html>\n",
        "<html lang=\"en\">\n",
        "<head>\n",
        "  <meta charset=\"UTF-8\">\n",
        "  <title>User Information Form</title>\n",
        "</head>\n",
        "<body>\n",
        "\n",
        "  <h2>User Information Form</h2>\n",
        "\n",
        "  <form action=\"/submit\" method=\"post\">\n",
        "\n",
        "    <label for=\"name\">Name:</label>\n",
        "    <input type=\"text\" id=\"name\" name=\"username\" placeholder=\"Enter your name\" required />\n",
        "    <br><br>\n",
        "\n",
        "\n",
        "    <label for=\"country\">Country:</label>\n",
        "    <select id=\"country\" name=\"country\" required>\n",
        "      <option value=\"\">--Select a Country--</option>\n",
        "      <option value=\"india\">India</option>\n",
        "      <option value=\"usa\">United States</option>\n",
        "      <option value=\"uk\">United Kingdom</option>\n",
        "      <option value=\"canada\">Canada</option>\n",
        "      <option value=\"australia\">Australia</option>\n",
        "    </select>\n",
        "    <br><br>\n",
        "\n",
        "\n",
        "    <button type=\"submit\">Submit</button>\n",
        "  </form>\n",
        "\n",
        "</body>\n",
        "</html>\n"
      ],
      "metadata": {
        "id": "eSoHkj6nHW_7"
      },
      "execution_count": null,
      "outputs": []
    },
    {
      "cell_type": "code",
      "source": [
        "... 5) Write short HTML code to show your favorite fruits in a bulleted list and\n",
        "your top 3 programming languages in a numbered lis\n",
        "...\n",
        "->\n",
        "<!DOCTYPE html>\n",
        "<html lang=\"en\">\n",
        "<head>\n",
        "  <meta charset=\"UTF-8\">\n",
        "  <title>My Favorites</title>\n",
        "</head>\n",
        "<body>\n",
        "\n",
        "  <h2>My Favorite Fruits</h2>\n",
        "  <ul>\n",
        "    <li>Mango</li>\n",
        "    <li>Banana</li>\n",
        "    <li>Appple</li>\n",
        "  </ul>\n",
        "\n",
        "  <h2>Top 3 Programming Languages</h2>\n",
        "  <ol>\n",
        "    <li>JavaScript</li>\n",
        "    <li>Python</li>\n",
        "    <li>Java</li>\n",
        "  </ol>\n",
        "\n",
        "</body>\n",
        "</html>\n",
        "\n"
      ],
      "metadata": {
        "id": "x5aF0AzwIndg"
      },
      "execution_count": null,
      "outputs": []
    },
    {
      "cell_type": "code",
      "source": [
        "...\n",
        " 6) Ravi wants to leave a note in his HTML file so that only other developers\n",
        "can see it, not the users on the website. How should he do this? Why are such notes\n",
        "useful?\n",
        "...\n",
        "->\n",
        "<!--  Add more Fruits -->\n",
        "<select>\n",
        "  <option>Banana</option>\n",
        "</select>\n",
        "...\n",
        "-given example, he can comment code by using<!-- -->.commented code visible only for developer not in webpage.\n",
        "-Helps developers understand the code, especially in team projects.\n",
        "-Used to mark sections or explain logic in long files.\n",
        "...\n",
        "\n"
      ],
      "metadata": {
        "id": "6GSy8omXJWlp"
      },
      "execution_count": null,
      "outputs": []
    },
    {
      "cell_type": "code",
      "source": [
        "...\n",
        " 7) Here’s a form snippet. Can you spot the error and rewrite the correct\n",
        "version\n",
        "\n",
        "<form>\n",
        " <input name=\"email\">\n",
        " <select>\n",
        " <option>India</option>\n",
        " </select>\n",
        " <button>Send</buton>\n",
        "</form\n",
        "...\n",
        "->\n",
        "<form>\n",
        "  <input type=\"email\" name=\"email\" placeholder=\"Enter your email\" required>\n",
        "\n",
        "  <select name=\"country\">\n",
        "    <option value=\"india\">India</option>\n",
        "  </select>\n",
        "\n",
        "  <button type=\"submit\">Send</button>\n",
        "</form>\n"
      ],
      "metadata": {
        "id": "KbxsExbfL6Tz"
      },
      "execution_count": null,
      "outputs": []
    }
  ]
}